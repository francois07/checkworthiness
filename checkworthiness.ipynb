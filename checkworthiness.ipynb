{
 "cells": [
  {
   "cell_type": "markdown",
   "id": "18a89c3a-6bd1-431e-a9c9-39ce4edb6276",
   "metadata": {},
   "source": [
    "# Checkworthiness"
   ]
  },
  {
   "cell_type": "markdown",
   "id": "5c33e7e9-4101-400e-b5dd-6fa32e6dbab5",
   "metadata": {},
   "source": [
    "Dans le contexte des discours politiques et des débats, il est crucial de pouvoir identifier les affirmations qui nécessitent une vérification des faits. "
   ]
  },
  {
   "cell_type": "code",
   "execution_count": null,
   "id": "11c68442-76b0-469e-85e5-8506fa386eb0",
   "metadata": {},
   "outputs": [],
   "source": []
  }
 ],
 "metadata": {
  "kernelspec": {
   "display_name": "Python 3 (ipykernel)",
   "language": "python",
   "name": "python3"
  },
  "language_info": {
   "codemirror_mode": {
    "name": "ipython",
    "version": 3
   },
   "file_extension": ".py",
   "mimetype": "text/x-python",
   "name": "python",
   "nbconvert_exporter": "python",
   "pygments_lexer": "ipython3",
   "version": "3.11.6"
  }
 },
 "nbformat": 4,
 "nbformat_minor": 5
}
